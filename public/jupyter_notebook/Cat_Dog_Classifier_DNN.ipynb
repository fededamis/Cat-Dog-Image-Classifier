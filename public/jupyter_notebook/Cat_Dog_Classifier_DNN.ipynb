{
  "nbformat": 4,
  "nbformat_minor": 0,
  "metadata": {
    "colab": {
      "name": "Cat/Dog Classifier DNN.ipynb",
      "provenance": [],
      "collapsed_sections": []
    },
    "kernelspec": {
      "name": "python3",
      "display_name": "Python 3"
    }
  },
  "cells": [
    {
      "cell_type": "code",
      "metadata": {
        "id": "XgLOAoUu3xh3",
        "colab_type": "code",
        "colab": {}
      },
      "source": [
        "# Obtengo la ultima version de TensorFlow\n",
        "%tensorflow_version 2.x\n",
        "import tensorflow as tf"
      ],
      "execution_count": null,
      "outputs": []
    },
    {
      "cell_type": "code",
      "metadata": {
        "id": "heH_r-tM5_9S",
        "colab_type": "code",
        "colab": {}
      },
      "source": [
        "# Importo Librerías\n",
        "from tensorflow.keras.applications.nasnet import NASNetMobile \n",
        "from tensorflow.keras.optimizers import RMSprop\n",
        "from tensorflow.keras.preprocessing.image import ImageDataGenerator\n",
        "from tensorflow.keras import layers\n",
        "from tensorflow.keras import Model  \n",
        "from tensorflow.keras.callbacks import EarlyStopping\n",
        "from tensorflow.keras.callbacks import ModelCheckpoint\n",
        "from tensorflow.keras.callbacks import LearningRateScheduler\n",
        "import math\n",
        "import os"
      ],
      "execution_count": null,
      "outputs": []
    },
    {
      "cell_type": "code",
      "metadata": {
        "id": "KI90YJ9J6F8R",
        "colab_type": "code",
        "colab": {
          "base_uri": "https://localhost:8080/",
          "height": 139
        },
        "outputId": "227988af-5a5d-4d37-8876-c71fd9a8444e"
      },
      "source": [
        "# Conecto con Google Drive para obtener el dataset\n",
        "from google.colab import drive\n",
        "drive.mount('/content/drive', force_remount=True)\n",
        "os.chdir(\"drive/My Drive/Colab Notebooks/Cat-Dog Classifier\")\n",
        "os.listdir()"
      ],
      "execution_count": null,
      "outputs": [
        {
          "output_type": "stream",
          "text": [
            "Go to this URL in a browser: https://accounts.google.com/o/oauth2/auth?client_id=947318989803-6bn6qk8qdgf4n4g3pfee6491hc0brc4i.apps.googleusercontent.com&redirect_uri=urn%3aietf%3awg%3aoauth%3a2.0%3aoob&response_type=code&scope=email%20https%3a%2f%2fwww.googleapis.com%2fauth%2fdocs.test%20https%3a%2f%2fwww.googleapis.com%2fauth%2fdrive%20https%3a%2f%2fwww.googleapis.com%2fauth%2fdrive.photos.readonly%20https%3a%2f%2fwww.googleapis.com%2fauth%2fpeopleapi.readonly\n",
            "\n",
            "Enter your authorization code:\n",
            "··········\n",
            "Mounted at /content/drive\n"
          ],
          "name": "stdout"
        },
        {
          "output_type": "execute_result",
          "data": {
            "text/plain": [
              "['train_catdog.zip', 'Cat Dog Classifier DNN.ipynb']"
            ]
          },
          "metadata": {
            "tags": []
          },
          "execution_count": 3
        }
      ]
    },
    {
      "cell_type": "code",
      "metadata": {
        "id": "5Yx04ynU6fMQ",
        "colab_type": "code",
        "colab": {
          "base_uri": "https://localhost:8080/",
          "height": 68
        },
        "outputId": "475009b9-a00a-40c1-f818-ca554c636f45"
      },
      "source": [
        "# Copio el dataset a Google Colab desde Google Drive, y lo deszipeo en una carpeta nueva\n",
        "# Este método es mucho más performante que leer los archivos directamente desde Google Drive\n",
        "!cp \"train_catdog.zip\"\n",
        "!mkdir \"train_catdog\"\n",
        "!unzip -q train_catdog.zip -d \"train_catdog\"\n",
        "!ls"
      ],
      "execution_count": null,
      "outputs": [
        {
          "output_type": "stream",
          "text": [
            "cp: missing destination file operand after 'train_catdog.zip'\n",
            "Try 'cp --help' for more information.\n",
            "'Cat Dog Classifier DNN.ipynb'\t train_catdog   train_catdog.zip\n"
          ],
          "name": "stdout"
        }
      ]
    },
    {
      "cell_type": "code",
      "metadata": {
        "id": "LqECxk3P6nHQ",
        "colab_type": "code",
        "colab": {
          "base_uri": "https://localhost:8080/",
          "height": 51
        },
        "outputId": "b113739a-2c69-4911-e872-7685070b11c3"
      },
      "source": [
        "# Utilizo como CNN base el modelo NASNetMobile\n",
        "pre_trained_model = NASNetMobile(input_shape=(224,224,3), \n",
        "                                include_top = False,\n",
        "                                weights = 'imagenet')\n",
        "\n",
        "for layer in pre_trained_model.layers:    \n",
        "    layer.trainable = False     \n",
        "\n",
        "# Cargamos nuestras capas de clasificación propias\n",
        "x = layers.Flatten() (pre_trained_model.output)\n",
        "x = layers.Dropout(0.5) (x)\n",
        "x = layers.Dense(256, activation='relu') (x)\n",
        "x = layers.Dense(1, activation='sigmoid') (x)\n",
        "\n",
        "# Consolidamos el modelo y seteo la funcion de pérdida (los function) y qué optimizador para reducirla\n",
        "model = Model(pre_trained_model.input, x)\n",
        "model.compile (optimizer= RMSprop(lr=0.001), loss='binary_crossentropy', metrics=['acc'])\n",
        "# model.summary()"
      ],
      "execution_count": null,
      "outputs": [
        {
          "output_type": "stream",
          "text": [
            "Downloading data from https://storage.googleapis.com/tensorflow/keras-applications/nasnet/NASNet-mobile-no-top.h5\n",
            "19996672/19993432 [==============================] - 0s 0us/step\n"
          ],
          "name": "stdout"
        }
      ]
    },
    {
      "cell_type": "code",
      "metadata": {
        "id": "4ds6aQ3C9c3k",
        "colab_type": "code",
        "colab": {
          "base_uri": "https://localhost:8080/",
          "height": 51
        },
        "outputId": "e4a99307-383c-42bf-d1b1-80968a765154"
      },
      "source": [
        "# Normalizo los valores de los pixeles entre 0 y 1\n",
        "# Uso Data Augmentation agregando imagenes\n",
        "# Reservo 20% de imagenes para el validation set\n",
        "train_dir = os.path.join(\"train_catdog\")\n",
        "train_datagen = ImageDataGenerator(\n",
        "                                rescale = 1./255., \n",
        "                                horizontal_flip = True, \n",
        "                                rotation_range=20,                         \n",
        "                                zoom_range=0.1,\n",
        "                                width_shift_range=0.1,\n",
        "                                height_shift_range=0.1,                                \n",
        "                                validation_split=0.2)\n",
        "\n",
        "train_generator = train_datagen.flow_from_directory(\n",
        "                                train_dir, \n",
        "                                batch_size = 64, \n",
        "                                class_mode = 'binary', \n",
        "                                target_size = (224, 224), \n",
        "                                color_mode = 'rgb',\n",
        "                                interpolation = 'nearest',\n",
        "                                subset='training')\n",
        "validation_generator = train_datagen.flow_from_directory(\n",
        "                                train_dir, \n",
        "                                batch_size = 64, \n",
        "                                class_mode = 'binary', \n",
        "                                target_size = (224, 224),  \n",
        "                                color_mode = 'rgb', \n",
        "                                interpolation = 'nearest',\n",
        "                                subset='validation')"
      ],
      "execution_count": null,
      "outputs": [
        {
          "output_type": "stream",
          "text": [
            "Found 20000 images belonging to 2 classes.\n",
            "Found 5000 images belonging to 2 classes.\n"
          ],
          "name": "stdout"
        }
      ]
    },
    {
      "cell_type": "code",
      "metadata": {
        "id": "jw_Cky4l9sSS",
        "colab_type": "code",
        "colab": {}
      },
      "source": [
        "# Agrego Early Stopping para dejar de entrenar el modelo si comienza a haber overfitting\n",
        "earlystop_callback = EarlyStopping(monitor='val_acc', min_delta=0, patience=9)\n",
        "\n",
        "# Agrego Model Checkpoint para almacenar el modelo más preciso a medida que avanza el entrenamiento\n",
        "modelcheckpoint_callback = tf.keras.callbacks.ModelCheckpoint(  \n",
        "                                  filepath = 'CatDog_Classifier_Model',\n",
        "                                  save_weights_only=False,\n",
        "                                  monitor='val_acc',\n",
        "                                  mode='max',\n",
        "                                  save_best_only=True,\n",
        "                                  save_freq='epoch',\n",
        "                                  verbose=1)\n",
        "\n",
        "# Agrego Learning Rate Scheduler, cada 3 epochs divido el learning rate por la mitad\n",
        "def step_decay(epoch):\n",
        "  initial_lrate = 0.01\n",
        "  drop = 0.5\n",
        "  epochs_drop = 3.0\n",
        "  lrate = initial_lrate * math.pow(drop,  \n",
        "          math.floor((1+epoch)/epochs_drop))\n",
        "  return lrate\n",
        "\n",
        "lrscheduler_callback = tf.keras.callbacks.LearningRateScheduler(step_decay, verbose=1)"
      ],
      "execution_count": null,
      "outputs": []
    },
    {
      "cell_type": "code",
      "metadata": {
        "id": "91HgXCAI94Ra",
        "colab_type": "code",
        "colab": {
          "base_uri": "https://localhost:8080/",
          "height": 836
        },
        "outputId": "658bd7a1-1c85-41a8-9eb2-72af3e2c9fdb"
      },
      "source": [
        "history = model.fit(\n",
        "            train_generator,\n",
        "            validation_data = validation_generator,\n",
        "            # steps_per_epoch = XX, # Si no se envia se calcula por defecto. Cantidad de muestras training / training batch size\n",
        "            epochs = 100,  \n",
        "            # validation_steps = XX, # Si no se envia se calcula por defecto. Cantidad de muestras validation / validation batch size\n",
        "            callbacks=[earlystop_callback, modelcheckpoint_callback, lrscheduler_callback],\n",
        "            verbose = 1) "
      ],
      "execution_count": null,
      "outputs": [
        {
          "output_type": "stream",
          "text": [
            "\n",
            "Epoch 00001: LearningRateScheduler reducing learning rate to 0.01.\n",
            "Epoch 1/100\n",
            "313/313 [==============================] - ETA: 0s - loss: 2.5036 - acc: 0.9664\n",
            "Epoch 00001: val_acc improved from -inf to 0.97360, saving model to CatDog_Classifier_Model\n",
            "WARNING:tensorflow:From /usr/local/lib/python3.6/dist-packages/tensorflow/python/ops/resource_variable_ops.py:1817: calling BaseResourceVariable.__init__ (from tensorflow.python.ops.resource_variable_ops) with constraint is deprecated and will be removed in a future version.\n",
            "Instructions for updating:\n",
            "If using Keras pass *_constraint arguments to layers.\n",
            "INFO:tensorflow:Assets written to: CatDog_Classifier_Model/assets\n",
            "313/313 [==============================] - 2855s 9s/step - loss: 2.5036 - acc: 0.9664 - val_loss: 0.0779 - val_acc: 0.9736 - lr: 0.0100\n",
            "\n",
            "Epoch 00002: LearningRateScheduler reducing learning rate to 0.01.\n",
            "Epoch 2/100\n",
            "313/313 [==============================] - ETA: 0s - loss: 0.2638 - acc: 0.9714\n",
            "Epoch 00002: val_acc improved from 0.97360 to 0.97560, saving model to CatDog_Classifier_Model\n",
            "INFO:tensorflow:Assets written to: CatDog_Classifier_Model/assets\n",
            "313/313 [==============================] - 2818s 9s/step - loss: 0.2638 - acc: 0.9714 - val_loss: 0.1848 - val_acc: 0.9756 - lr: 0.0100\n",
            "\n",
            "Epoch 00003: LearningRateScheduler reducing learning rate to 0.005.\n",
            "Epoch 3/100\n",
            "313/313 [==============================] - ETA: 0s - loss: 0.1154 - acc: 0.9778\n",
            "Epoch 00003: val_acc did not improve from 0.97560\n",
            "313/313 [==============================] - 2738s 9s/step - loss: 0.1154 - acc: 0.9778 - val_loss: 0.1007 - val_acc: 0.9726 - lr: 0.0050\n",
            "\n",
            "Epoch 00004: LearningRateScheduler reducing learning rate to 0.005.\n",
            "Epoch 4/100\n",
            "313/313 [==============================] - ETA: 0s - loss: 0.1088 - acc: 0.9777\n",
            "Epoch 00004: val_acc improved from 0.97560 to 0.98320, saving model to CatDog_Classifier_Model\n",
            "INFO:tensorflow:Assets written to: CatDog_Classifier_Model/assets\n",
            "313/313 [==============================] - 2825s 9s/step - loss: 0.1088 - acc: 0.9777 - val_loss: 0.0849 - val_acc: 0.9832 - lr: 0.0050\n",
            "\n",
            "Epoch 00005: LearningRateScheduler reducing learning rate to 0.005.\n",
            "Epoch 5/100\n",
            "313/313 [==============================] - ETA: 0s - loss: 0.1084 - acc: 0.9790\n",
            "Epoch 00005: val_acc did not improve from 0.98320\n",
            "313/313 [==============================] - 2737s 9s/step - loss: 0.1084 - acc: 0.9790 - val_loss: 0.1312 - val_acc: 0.9828 - lr: 0.0050\n",
            "\n",
            "Epoch 00006: LearningRateScheduler reducing learning rate to 0.0025.\n",
            "Epoch 6/100\n",
            "313/313 [==============================] - ETA: 0s - loss: 0.0756 - acc: 0.9813\n",
            "Epoch 00006: val_acc improved from 0.98320 to 0.98380, saving model to CatDog_Classifier_Model\n",
            "INFO:tensorflow:Assets written to: CatDog_Classifier_Model/assets\n",
            "313/313 [==============================] - 2818s 9s/step - loss: 0.0756 - acc: 0.9813 - val_loss: 0.0961 - val_acc: 0.9838 - lr: 0.0025\n",
            "\n",
            "Epoch 00007: LearningRateScheduler reducing learning rate to 0.0025.\n",
            "Epoch 7/100\n",
            "250/313 [======================>.......] - ETA: 7:21 - loss: 0.0720 - acc: 0.9825"
          ],
          "name": "stdout"
        }
      ]
    }
  ]
}